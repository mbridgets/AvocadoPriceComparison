{
  "nbformat": 4,
  "nbformat_minor": 0,
  "metadata": {
    "colab": {
      "name": "loading_data.ipynb",
      "provenance": [],
      "collapsed_sections": [],
      "include_colab_link": true
    },
    "kernelspec": {
      "display_name": "Python 3",
      "language": "python",
      "name": "python3"
    },
    "language_info": {
      "codemirror_mode": {
        "name": "ipython",
        "version": 3
      },
      "file_extension": ".py",
      "mimetype": "text/x-python",
      "name": "python",
      "nbconvert_exporter": "python",
      "pygments_lexer": "ipython3",
      "version": "3.8.3"
    },
    "latex_envs": {
      "LaTeX_envs_menu_present": true,
      "autoclose": false,
      "autocomplete": true,
      "bibliofile": "biblio.bib",
      "cite_by": "apalike",
      "current_citInitial": 1,
      "eqLabelWithNumbers": true,
      "eqNumInitial": 1,
      "hotkeys": {
        "equation": "Ctrl-E",
        "itemize": "Ctrl-I"
      },
      "labels_anchors": false,
      "latex_user_defs": false,
      "report_style_numbering": false,
      "user_envs_cfg": false
    }
  },
  "cells": [
    {
      "cell_type": "markdown",
      "metadata": {
        "id": "view-in-github",
        "colab_type": "text"
      },
      "source": [
        "<a href=\"https://colab.research.google.com/github/mbridgets/TheMUGSSProject3/blob/master/loading_data.ipynb\" target=\"_parent\"><img src=\"https://colab.research.google.com/assets/colab-badge.svg\" alt=\"Open In Colab\"/></a>"
      ]
    },
    {
      "cell_type": "code",
      "metadata": {
        "id": "5WosHdRWdmpw",
        "colab": {
          "base_uri": "https://localhost:8080/"
        },
        "outputId": "2f8dc884-1b92-454e-91a8-6157e794ddca"
      },
      "source": [
        "import os\n",
        "# Find the latest version of spark 2.0  from http://www-us.apache.org/dist/spark/ and enter as the spark version\n",
        "# For example:\n",
        "# spark_version = 'spark-2.4.6'\n",
        "spark_version = 'spark-2.4.7'\n",
        "os.environ['SPARK_VERSION']=spark_version\n",
        "\n",
        "# Install Spark and Java\n",
        "!apt-get update\n",
        "!apt-get install openjdk-8-jdk-headless -qq > /dev/null\n",
        "!wget -q http://www-us.apache.org/dist/spark/$SPARK_VERSION/$SPARK_VERSION-bin-hadoop2.7.tgz\n",
        "!tar xf $SPARK_VERSION-bin-hadoop2.7.tgz\n",
        "!pip install -q findspark\n",
        "\n",
        "# Set Environment Variables\n",
        "os.environ[\"JAVA_HOME\"] = \"/usr/lib/jvm/java-8-openjdk-amd64\"\n",
        "os.environ[\"SPARK_HOME\"] = f\"/content/{spark_version}-bin-hadoop2.7\"\n",
        "\n",
        "# Start a SparkSession\n",
        "import findspark\n",
        "findspark.init()"
      ],
      "execution_count": 1,
      "outputs": [
        {
          "output_type": "stream",
          "text": [
            "\r0% [Working]\r            \rIgn:1 https://developer.download.nvidia.com/compute/cuda/repos/ubuntu1804/x86_64  InRelease\n",
            "Get:2 https://cloud.r-project.org/bin/linux/ubuntu bionic-cran40/ InRelease [3,626 B]\n",
            "Get:3 http://ppa.launchpad.net/c2d4u.team/c2d4u4.0+/ubuntu bionic InRelease [15.9 kB]\n",
            "Get:4 http://security.ubuntu.com/ubuntu bionic-security InRelease [88.7 kB]\n",
            "Ign:5 https://developer.download.nvidia.com/compute/machine-learning/repos/ubuntu1804/x86_64  InRelease\n",
            "Hit:6 http://archive.ubuntu.com/ubuntu bionic InRelease\n",
            "Get:7 https://developer.download.nvidia.com/compute/cuda/repos/ubuntu1804/x86_64  Release [697 B]\n",
            "Hit:8 https://developer.download.nvidia.com/compute/machine-learning/repos/ubuntu1804/x86_64  Release\n",
            "Get:9 https://developer.download.nvidia.com/compute/cuda/repos/ubuntu1804/x86_64  Release.gpg [836 B]\n",
            "Get:10 http://archive.ubuntu.com/ubuntu bionic-updates InRelease [88.7 kB]\n",
            "Get:11 http://ppa.launchpad.net/graphics-drivers/ppa/ubuntu bionic InRelease [21.3 kB]\n",
            "Get:12 https://cloud.r-project.org/bin/linux/ubuntu bionic-cran40/ Packages [40.7 kB]\n",
            "Get:13 http://archive.ubuntu.com/ubuntu bionic-backports InRelease [74.6 kB]\n",
            "Ign:15 https://developer.download.nvidia.com/compute/cuda/repos/ubuntu1804/x86_64  Packages\n",
            "Get:15 https://developer.download.nvidia.com/compute/cuda/repos/ubuntu1804/x86_64  Packages [506 kB]\n",
            "Get:16 http://ppa.launchpad.net/c2d4u.team/c2d4u4.0+/ubuntu bionic/main Sources [1,699 kB]\n",
            "Get:17 http://security.ubuntu.com/ubuntu bionic-security/universe amd64 Packages [1,372 kB]\n",
            "Get:18 http://archive.ubuntu.com/ubuntu bionic-updates/main amd64 Packages [2,244 kB]\n",
            "Get:19 http://security.ubuntu.com/ubuntu bionic-security/main amd64 Packages [1,816 kB]\n",
            "Get:20 http://security.ubuntu.com/ubuntu bionic-security/multiverse amd64 Packages [15.3 kB]\n",
            "Get:21 http://security.ubuntu.com/ubuntu bionic-security/restricted amd64 Packages [237 kB]\n",
            "Get:22 http://ppa.launchpad.net/c2d4u.team/c2d4u4.0+/ubuntu bionic/main amd64 Packages [870 kB]\n",
            "Get:23 http://archive.ubuntu.com/ubuntu bionic-updates/multiverse amd64 Packages [53.8 kB]\n",
            "Get:24 http://archive.ubuntu.com/ubuntu bionic-updates/universe amd64 Packages [2,136 kB]\n",
            "Get:25 http://archive.ubuntu.com/ubuntu bionic-updates/restricted amd64 Packages [266 kB]\n",
            "Get:26 http://ppa.launchpad.net/graphics-drivers/ppa/ubuntu bionic/main amd64 Packages [46.5 kB]\n",
            "Fetched 11.6 MB in 3s (3,909 kB/s)\n",
            "Reading package lists... Done\n"
          ],
          "name": "stdout"
        }
      ]
    },
    {
      "cell_type": "code",
      "metadata": {
        "id": "xISV-9eR6Yah",
        "colab": {
          "base_uri": "https://localhost:8080/"
        },
        "outputId": "fd7af3fe-e516-4699-a9e2-a56dfbb0959c"
      },
      "source": [
        "!wget https://jdbc.postgresql.org/download/postgresql-42.2.9.jar"
      ],
      "execution_count": 2,
      "outputs": [
        {
          "output_type": "stream",
          "text": [
            "--2020-12-17 03:22:17--  https://jdbc.postgresql.org/download/postgresql-42.2.9.jar\n",
            "Resolving jdbc.postgresql.org (jdbc.postgresql.org)... 72.32.157.228, 2001:4800:3e1:1::228\n",
            "Connecting to jdbc.postgresql.org (jdbc.postgresql.org)|72.32.157.228|:443... connected.\n",
            "HTTP request sent, awaiting response... 200 OK\n",
            "Length: 914037 (893K) [application/java-archive]\n",
            "Saving to: ‘postgresql-42.2.9.jar’\n",
            "\n",
            "postgresql-42.2.9.j 100%[===================>] 892.61K  5.02MB/s    in 0.2s    \n",
            "\n",
            "2020-12-17 03:22:17 (5.02 MB/s) - ‘postgresql-42.2.9.jar’ saved [914037/914037]\n",
            "\n"
          ],
          "name": "stdout"
        }
      ]
    },
    {
      "cell_type": "code",
      "metadata": {
        "id": "aEQFTWiV6g2h"
      },
      "source": [
        "from pyspark.sql import SparkSession\n",
        "spark = SparkSession.builder.appName(\"CloudETL\").config(\"spark.driver.extraClassPath\",\"/content/postgresql-42.2.9.jar\").getOrCreate()"
      ],
      "execution_count": 3,
      "outputs": []
    },
    {
      "cell_type": "code",
      "metadata": {
        "colab": {
          "base_uri": "https://localhost:8080/"
        },
        "id": "qik6uGSV9BWa",
        "outputId": "240a33cf-17b8-4f73-97cd-2b27aaef5219"
      },
      "source": [
        "# Read in data from S3 Buckets\n",
        "from pyspark import SparkFiles\n",
        "url=\"https://mugssproject3avodatageo.s3-us-west-1.amazonaws.com/avo_data_withlr.csv\"\n",
        "spark.sparkContext.addFile(url)\n",
        "avo_geo_data_df = spark.read.csv(SparkFiles.get(\"avo_data_withlr.csv\"), sep=\",\", header=True, inferSchema=True)\n",
        "\n",
        "# Show DataFrame\n",
        "avo_geo_data_df.show()"
      ],
      "execution_count": 4,
      "outputs": [
        {
          "output_type": "stream",
          "text": [
            "+-------------------+-------------+------------+---------+---------+---------+----------+----------+----------+-----------+------------+----+------+-----+---------+----------+--------+---------+----------------+\n",
            "|               date|average_price|total_volume|type_4046|type_4225|type_4770|total_bags|small_bags|large_bags|xlarge_bags|        type|year|  city|state|   region|city_state|latitude|longitude|LinearRegression|\n",
            "+-------------------+-------------+------------+---------+---------+---------+----------+----------+----------+-----------+------------+----+------+-----+---------+----------+--------+---------+----------------+\n",
            "|2015-12-27 00:00:00|         1.33|    64236.62|  1036.74| 54454.85|    48.16|   8696.87|   8603.62|     93.25|        0.0|conventional|2015|Albany|   NY|Northeast|Albany, NY| 42.6664| -73.7987|            null|\n",
            "|2015-12-20 00:00:00|         1.35|    54876.98|   674.28| 44638.81|    58.33|   9505.56|   9408.07|     97.49|        0.0|conventional|2015|Albany|   NY|Northeast|Albany, NY| 42.6664| -73.7987|            null|\n",
            "|2015-12-13 00:00:00|         0.93|   118220.22|    794.7|109149.67|    130.5|   8145.35|   8042.21|    103.14|        0.0|conventional|2015|Albany|   NY|Northeast|Albany, NY| 42.6664| -73.7987|            null|\n",
            "|2015-12-06 00:00:00|         1.08|    78992.15|   1132.0| 71976.41|    72.58|   5811.16|    5677.4|    133.76|        0.0|conventional|2015|Albany|   NY|Northeast|Albany, NY| 42.6664| -73.7987|            null|\n",
            "|2015-11-29 00:00:00|         1.28|     51039.6|   941.48| 43838.39|    75.78|   6183.95|   5986.26|    197.69|        0.0|conventional|2015|Albany|   NY|Northeast|Albany, NY| 42.6664| -73.7987|            null|\n",
            "|2015-11-22 00:00:00|         1.26|    55979.78|  1184.27| 48067.99|    43.61|   6683.91|   6556.47|    127.44|        0.0|conventional|2015|Albany|   NY|Northeast|Albany, NY| 42.6664| -73.7987|            null|\n",
            "|2015-11-15 00:00:00|         0.99|    83453.76|  1368.92| 73672.72|    93.26|   8318.86|   8196.81|    122.05|        0.0|conventional|2015|Albany|   NY|Northeast|Albany, NY| 42.6664| -73.7987|            null|\n",
            "|2015-11-08 00:00:00|         0.98|   109428.33|   703.75|101815.36|     80.0|   6829.22|   6266.85|    562.37|        0.0|conventional|2015|Albany|   NY|Northeast|Albany, NY| 42.6664| -73.7987|            null|\n",
            "|2015-11-01 00:00:00|         1.02|    99811.42|  1022.15| 87315.57|    85.34|  11388.36|  11104.53|    283.83|        0.0|conventional|2015|Albany|   NY|Northeast|Albany, NY| 42.6664| -73.7987|            null|\n",
            "|2015-10-25 00:00:00|         1.07|    74338.76|    842.4| 64757.44|    113.0|   8625.92|   8061.47|    564.45|        0.0|conventional|2015|Albany|   NY|Northeast|Albany, NY| 42.6664| -73.7987|            null|\n",
            "|2015-10-18 00:00:00|         1.12|    84843.44|   924.86| 75595.85|   117.07|   8205.66|   7877.86|     327.8|        0.0|conventional|2015|Albany|   NY|Northeast|Albany, NY| 42.6664| -73.7987|            null|\n",
            "|2015-10-11 00:00:00|         1.28|    64489.17|  1582.03| 52677.92|   105.32|   10123.9|   9866.27|    257.63|        0.0|conventional|2015|Albany|   NY|Northeast|Albany, NY| 42.6664| -73.7987|            null|\n",
            "|2015-10-04 00:00:00|         1.31|     61007.1|  2268.32| 49880.67|   101.36|   8756.75|   8379.98|    376.77|        0.0|conventional|2015|Albany|   NY|Northeast|Albany, NY| 42.6664| -73.7987|            null|\n",
            "|2015-09-27 00:00:00|         0.99|   106803.39|  1204.88| 99409.21|   154.84|   6034.46|   5888.87|    145.59|        0.0|conventional|2015|Albany|   NY|Northeast|Albany, NY| 42.6664| -73.7987|            null|\n",
            "|2015-09-20 00:00:00|         1.33|    69759.01|  1028.03| 59313.12|    150.5|   9267.36|    8489.1|    778.26|        0.0|conventional|2015|Albany|   NY|Northeast|Albany, NY| 42.6664| -73.7987|            null|\n",
            "|2015-09-13 00:00:00|         1.28|    76111.27|   985.73| 65696.86|    142.0|   9286.68|   8665.19|    621.49|        0.0|conventional|2015|Albany|   NY|Northeast|Albany, NY| 42.6664| -73.7987|            null|\n",
            "|2015-09-06 00:00:00|         1.11|    99172.96|   879.45| 90062.62|   240.79|    7990.1|   7762.87|    227.23|        0.0|conventional|2015|Albany|   NY|Northeast|Albany, NY| 42.6664| -73.7987|            null|\n",
            "|2015-08-30 00:00:00|         1.07|   105693.84|   689.01| 94362.67|   335.43|  10306.73|  10218.93|      87.8|        0.0|conventional|2015|Albany|   NY|Northeast|Albany, NY| 42.6664| -73.7987|            null|\n",
            "|2015-08-23 00:00:00|         1.34|    79992.09|   733.16| 67933.79|   444.78|  10880.36|  10745.79|    134.57|        0.0|conventional|2015|Albany|   NY|Northeast|Albany, NY| 42.6664| -73.7987|            null|\n",
            "|2015-08-16 00:00:00|         1.33|    80043.78|   539.65| 68666.01|    394.9|  10443.22|  10297.68|    145.54|        0.0|conventional|2015|Albany|   NY|Northeast|Albany, NY| 42.6664| -73.7987|            null|\n",
            "+-------------------+-------------+------------+---------+---------+---------+----------+----------+----------+-----------+------------+----+------+-----+---------+----------+--------+---------+----------------+\n",
            "only showing top 20 rows\n",
            "\n"
          ],
          "name": "stdout"
        }
      ]
    },
    {
      "cell_type": "code",
      "metadata": {
        "id": "985Vl1dtmpVU"
      },
      "source": [
        "# Configure settings for RDS\n",
        "mode = \"append\"\n",
        "jdbc_url=\"jdbc:postgresql://mugssproject3-awsdb.cd7njcklugjr.us-west-1.rds.amazonaws.com:5432/MUGSSProject3DB\"\n",
        "config = {\"user\":\"MUGSSProject3DB\", \n",
        "          \"password\": \"data1234\", \n",
        "          \"driver\":\"org.postgresql.Driver\"}\n"
      ],
      "execution_count": 5,
      "outputs": []
    },
    {
      "cell_type": "code",
      "metadata": {
        "id": "9yyZgvcUnaNN"
      },
      "source": [
        "# Write DataFrame to active_user table in RDS\n",
        "\n",
        "avo_geo_data_df.write.jdbc(url=jdbc_url, table='avocado_sales', mode=mode, properties=config)"
      ],
      "execution_count": 7,
      "outputs": []
    },
    {
      "cell_type": "code",
      "metadata": {
        "id": "Kx3hMnlAD5FA"
      },
      "source": [
        ""
      ],
      "execution_count": null,
      "outputs": []
    }
  ]
}