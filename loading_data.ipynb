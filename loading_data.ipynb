{
  "nbformat": 4,
  "nbformat_minor": 0,
  "metadata": {
    "colab": {
      "name": "loading_data.ipynb",
      "provenance": [],
      "include_colab_link": true
    },
    "kernelspec": {
      "display_name": "Python 3",
      "language": "python",
      "name": "python3"
    },
    "language_info": {
      "codemirror_mode": {
        "name": "ipython",
        "version": 3
      },
      "file_extension": ".py",
      "mimetype": "text/x-python",
      "name": "python",
      "nbconvert_exporter": "python",
      "pygments_lexer": "ipython3",
      "version": "3.8.3"
    },
    "latex_envs": {
      "LaTeX_envs_menu_present": true,
      "autoclose": false,
      "autocomplete": true,
      "bibliofile": "biblio.bib",
      "cite_by": "apalike",
      "current_citInitial": 1,
      "eqLabelWithNumbers": true,
      "eqNumInitial": 1,
      "hotkeys": {
        "equation": "Ctrl-E",
        "itemize": "Ctrl-I"
      },
      "labels_anchors": false,
      "latex_user_defs": false,
      "report_style_numbering": false,
      "user_envs_cfg": false
    }
  },
  "cells": [
    {
      "cell_type": "markdown",
      "metadata": {
        "id": "view-in-github",
        "colab_type": "text"
      },
      "source": [
        "<a href=\"https://colab.research.google.com/github/mbridgets/TheMUGSSProject3/blob/master/loading_data.ipynb\" target=\"_parent\"><img src=\"https://colab.research.google.com/assets/colab-badge.svg\" alt=\"Open In Colab\"/></a>"
      ]
    },
    {
      "cell_type": "code",
      "metadata": {
        "id": "5WosHdRWdmpw"
      },
      "source": [
        "import os\n",
        "# Find the latest version of spark 2.0  from http://www-us.apache.org/dist/spark/ and enter as the spark version\n",
        "# For example:\n",
        "# spark_version = 'spark-2.4.6'\n",
        "spark_version = 'spark-2.4.7'\n",
        "os.environ['SPARK_VERSION']=spark_version\n",
        "\n",
        "# Install Spark and Java\n",
        "!apt-get update\n",
        "!apt-get install openjdk-8-jdk-headless -qq > /dev/null\n",
        "!wget -q http://www-us.apache.org/dist/spark/$SPARK_VERSION/$SPARK_VERSION-bin-hadoop2.7.tgz\n",
        "!tar xf $SPARK_VERSION-bin-hadoop2.7.tgz\n",
        "!pip install -q findspark\n",
        "\n",
        "# Set Environment Variables\n",
        "os.environ[\"JAVA_HOME\"] = \"/usr/lib/jvm/java-8-openjdk-amd64\"\n",
        "os.environ[\"SPARK_HOME\"] = f\"/content/{spark_version}-bin-hadoop2.7\"\n",
        "\n",
        "# Start a SparkSession\n",
        "import findspark\n",
        "findspark.init()"
      ],
      "execution_count": null,
      "outputs": []
    },
    {
      "cell_type": "code",
      "metadata": {
        "id": "xISV-9eR6Yah"
      },
      "source": [
        "!wget https://jdbc.postgresql.org/download/postgresql-42.2.9.jar"
      ],
      "execution_count": null,
      "outputs": []
    },
    {
      "cell_type": "code",
      "metadata": {
        "id": "aEQFTWiV6g2h"
      },
      "source": [
        "from pyspark.sql import SparkSession\n",
        "spark = SparkSession.builder.appName(\"CloudETL\").config(\"spark.driver.extraClassPath\",\"/content/postgresql-42.2.9.jar\").getOrCreate()"
      ],
      "execution_count": 22,
      "outputs": []
    },
    {
      "cell_type": "code",
      "metadata": {
        "colab": {
          "base_uri": "https://localhost:8080/"
        },
        "id": "qik6uGSV9BWa",
        "outputId": "aece29ff-a2ee-4ad3-999c-9dc84389624a"
      },
      "source": [
        "# Read in data from S3 Buckets\n",
        "from pyspark import SparkFiles\n",
        "url=\"https://mugssproject3avodatageo.s3-us-west-1.amazonaws.com/avo_geo_data.csv\"\n",
        "spark.sparkContext.addFile(url)\n",
        "user_data_df = spark.read.csv(SparkFiles.get(\"avo_geo_data.csv\"), sep=\",\", header=True, inferSchema=True)\n",
        "\n",
        "# Show DataFrame\n",
        "user_data_df.show()"
      ],
      "execution_count": 23,
      "outputs": [
        {
          "output_type": "stream",
          "text": [
            "+---+----------+-------------+------------+---------+---------+---------+----------+----------+----------+-----------+------------+----+------+-----+---------+----------+--------+---------+\n",
            "|_c0|      date|average_price|total_volume|type_4046|type_4225|type_4770|total_bags|small_bags|large_bags|xlarge_bags|        type|year|  city|state|   region|city_state|latitude|longitude|\n",
            "+---+----------+-------------+------------+---------+---------+---------+----------+----------+----------+-----------+------------+----+------+-----+---------+----------+--------+---------+\n",
            "|  0|12/27/2015|         1.33|    64236.62|  1036.74| 54454.85|    48.16|   8696.87|   8603.62|     93.25|        0.0|conventional|2015|Albany|   NY|Northeast|Albany, NY| 42.6664| -73.7987|\n",
            "|  1|12/20/2015|         1.35|    54876.98|   674.28| 44638.81|    58.33|   9505.56|   9408.07|     97.49|        0.0|conventional|2015|Albany|   NY|Northeast|Albany, NY| 42.6664| -73.7987|\n",
            "|  2|12/13/2015|         0.93|   118220.22|    794.7|109149.67|    130.5|   8145.35|   8042.21|    103.14|        0.0|conventional|2015|Albany|   NY|Northeast|Albany, NY| 42.6664| -73.7987|\n",
            "|  3| 12/6/2015|         1.08|    78992.15|   1132.0| 71976.41|    72.58|   5811.16|    5677.4|    133.76|        0.0|conventional|2015|Albany|   NY|Northeast|Albany, NY| 42.6664| -73.7987|\n",
            "|  4|11/29/2015|         1.28|     51039.6|   941.48| 43838.39|    75.78|   6183.95|   5986.26|    197.69|        0.0|conventional|2015|Albany|   NY|Northeast|Albany, NY| 42.6664| -73.7987|\n",
            "|  5|11/22/2015|         1.26|    55979.78|  1184.27| 48067.99|    43.61|   6683.91|   6556.47|    127.44|        0.0|conventional|2015|Albany|   NY|Northeast|Albany, NY| 42.6664| -73.7987|\n",
            "|  6|11/15/2015|         0.99|    83453.76|  1368.92| 73672.72|    93.26|   8318.86|   8196.81|    122.05|        0.0|conventional|2015|Albany|   NY|Northeast|Albany, NY| 42.6664| -73.7987|\n",
            "|  7| 11/8/2015|         0.98|   109428.33|   703.75|101815.36|     80.0|   6829.22|   6266.85|    562.37|        0.0|conventional|2015|Albany|   NY|Northeast|Albany, NY| 42.6664| -73.7987|\n",
            "|  8| 11/1/2015|         1.02|    99811.42|  1022.15| 87315.57|    85.34|  11388.36|  11104.53|    283.83|        0.0|conventional|2015|Albany|   NY|Northeast|Albany, NY| 42.6664| -73.7987|\n",
            "|  9|10/25/2015|         1.07|    74338.76|    842.4| 64757.44|    113.0|   8625.92|   8061.47|    564.45|        0.0|conventional|2015|Albany|   NY|Northeast|Albany, NY| 42.6664| -73.7987|\n",
            "| 10|10/18/2015|         1.12|    84843.44|   924.86| 75595.85|   117.07|   8205.66|   7877.86|     327.8|        0.0|conventional|2015|Albany|   NY|Northeast|Albany, NY| 42.6664| -73.7987|\n",
            "| 11|10/11/2015|         1.28|    64489.17|  1582.03| 52677.92|   105.32|   10123.9|   9866.27|    257.63|        0.0|conventional|2015|Albany|   NY|Northeast|Albany, NY| 42.6664| -73.7987|\n",
            "| 12| 10/4/2015|         1.31|     61007.1|  2268.32| 49880.67|   101.36|   8756.75|   8379.98|    376.77|        0.0|conventional|2015|Albany|   NY|Northeast|Albany, NY| 42.6664| -73.7987|\n",
            "| 13| 9/27/2015|         0.99|   106803.39|  1204.88| 99409.21|   154.84|   6034.46|   5888.87|    145.59|        0.0|conventional|2015|Albany|   NY|Northeast|Albany, NY| 42.6664| -73.7987|\n",
            "| 14| 9/20/2015|         1.33|    69759.01|  1028.03| 59313.12|    150.5|   9267.36|    8489.1|    778.26|        0.0|conventional|2015|Albany|   NY|Northeast|Albany, NY| 42.6664| -73.7987|\n",
            "| 15| 9/13/2015|         1.28|    76111.27|   985.73| 65696.86|    142.0|   9286.68|   8665.19|    621.49|        0.0|conventional|2015|Albany|   NY|Northeast|Albany, NY| 42.6664| -73.7987|\n",
            "| 16|  9/6/2015|         1.11|    99172.96|   879.45| 90062.62|   240.79|    7990.1|   7762.87|    227.23|        0.0|conventional|2015|Albany|   NY|Northeast|Albany, NY| 42.6664| -73.7987|\n",
            "| 17| 8/30/2015|         1.07|   105693.84|   689.01| 94362.67|   335.43|  10306.73|  10218.93|      87.8|        0.0|conventional|2015|Albany|   NY|Northeast|Albany, NY| 42.6664| -73.7987|\n",
            "| 18| 8/23/2015|         1.34|    79992.09|   733.16| 67933.79|   444.78|  10880.36|  10745.79|    134.57|        0.0|conventional|2015|Albany|   NY|Northeast|Albany, NY| 42.6664| -73.7987|\n",
            "| 19| 8/16/2015|         1.33|    80043.78|   539.65| 68666.01|    394.9|  10443.22|  10297.68|    145.54|        0.0|conventional|2015|Albany|   NY|Northeast|Albany, NY| 42.6664| -73.7987|\n",
            "+---+----------+-------------+------------+---------+---------+---------+----------+----------+----------+-----------+------------+----+------+-----+---------+----------+--------+---------+\n",
            "only showing top 20 rows\n",
            "\n"
          ],
          "name": "stdout"
        }
      ]
    },
    {
      "cell_type": "code",
      "metadata": {
        "id": "RzqGVnoNd-d8"
      },
      "source": [
        "avo_geo_data = user_data_df.withColumnRenamed(\"_c0\", \"id\")"
      ],
      "execution_count": 24,
      "outputs": []
    },
    {
      "cell_type": "code",
      "metadata": {
        "id": "985Vl1dtmpVU"
      },
      "source": [
        "# Configure settings for RDS\n",
        "mode = \"append\"\n",
        "jdbc_url=\"jdbc:postgresql://mugssproject3-awsdb.cd7njcklugjr.us-west-1.rds.amazonaws.com:5432/MUGSSProject3DB\"\n",
        "config = {\"user\":\"MUGSSProject3DB\", \n",
        "          \"password\": \"data1234\", \n",
        "          \"driver\":\"org.postgresql.Driver\"}\n"
      ],
      "execution_count": 32,
      "outputs": []
    },
    {
      "cell_type": "code",
      "metadata": {
        "id": "9yyZgvcUnaNN"
      },
      "source": [
        "# Write DataFrame to active_user table in RDS\n",
        "\n",
        "avo_geo_data.write.jdbc(url=jdbc_url, table='avocado_sales', mode=mode, properties=config)"
      ],
      "execution_count": 33,
      "outputs": []
    },
    {
      "cell_type": "code",
      "metadata": {
        "id": "Kx3hMnlAD5FA"
      },
      "source": [
        ""
      ],
      "execution_count": null,
      "outputs": []
    }
  ]
}